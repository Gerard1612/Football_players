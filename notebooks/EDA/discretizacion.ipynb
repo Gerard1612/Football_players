{
 "cells": [
  {
   "cell_type": "markdown",
   "metadata": {},
   "source": [
    "# Discretización"
   ]
  },
  {
   "cell_type": "code",
   "execution_count": 2,
   "metadata": {},
   "outputs": [],
   "source": [
    "import numpy as np\n",
    "import pandas as pd\n",
    "import matplotlib.pyplot as plt\n",
    "\n",
    "from sklearn.model_selection import train_test_split\n",
    "# Para discretización\n",
    "from sklearn.preprocessing import KBinsDiscretizer"
   ]
  },
  {
   "cell_type": "code",
   "execution_count": 3,
   "metadata": {},
   "outputs": [
    {
     "data": {
      "text/html": [
       "<div>\n",
       "<style scoped>\n",
       "    .dataframe tbody tr th:only-of-type {\n",
       "        vertical-align: middle;\n",
       "    }\n",
       "\n",
       "    .dataframe tbody tr th {\n",
       "        vertical-align: top;\n",
       "    }\n",
       "\n",
       "    .dataframe thead th {\n",
       "        text-align: right;\n",
       "    }\n",
       "</style>\n",
       "<table border=\"1\" class=\"dataframe\">\n",
       "  <thead>\n",
       "    <tr style=\"text-align: right;\">\n",
       "      <th></th>\n",
       "      <th>name</th>\n",
       "      <th>full_name</th>\n",
       "      <th>birth_date</th>\n",
       "      <th>age</th>\n",
       "      <th>height_cm</th>\n",
       "      <th>weight_kgs</th>\n",
       "      <th>positions</th>\n",
       "      <th>nationality</th>\n",
       "      <th>overall_rating</th>\n",
       "      <th>potential</th>\n",
       "      <th>...</th>\n",
       "      <th>long_shots</th>\n",
       "      <th>aggression</th>\n",
       "      <th>interceptions</th>\n",
       "      <th>positioning</th>\n",
       "      <th>vision</th>\n",
       "      <th>penalties</th>\n",
       "      <th>composure</th>\n",
       "      <th>marking</th>\n",
       "      <th>standing_tackle</th>\n",
       "      <th>sliding_tackle</th>\n",
       "    </tr>\n",
       "  </thead>\n",
       "  <tbody>\n",
       "    <tr>\n",
       "      <th>0</th>\n",
       "      <td>L. Messi</td>\n",
       "      <td>Lionel Andrés Messi Cuccittini</td>\n",
       "      <td>6/24/1987</td>\n",
       "      <td>31</td>\n",
       "      <td>170.18</td>\n",
       "      <td>72.1</td>\n",
       "      <td>CF,RW,ST</td>\n",
       "      <td>Argentina</td>\n",
       "      <td>94</td>\n",
       "      <td>94</td>\n",
       "      <td>...</td>\n",
       "      <td>94</td>\n",
       "      <td>48</td>\n",
       "      <td>22</td>\n",
       "      <td>94</td>\n",
       "      <td>94</td>\n",
       "      <td>75</td>\n",
       "      <td>96</td>\n",
       "      <td>33</td>\n",
       "      <td>28</td>\n",
       "      <td>26</td>\n",
       "    </tr>\n",
       "    <tr>\n",
       "      <th>1</th>\n",
       "      <td>C. Eriksen</td>\n",
       "      <td>Christian  Dannemann Eriksen</td>\n",
       "      <td>2/14/1992</td>\n",
       "      <td>27</td>\n",
       "      <td>154.94</td>\n",
       "      <td>76.2</td>\n",
       "      <td>CAM,RM,CM</td>\n",
       "      <td>Denmark</td>\n",
       "      <td>88</td>\n",
       "      <td>89</td>\n",
       "      <td>...</td>\n",
       "      <td>89</td>\n",
       "      <td>46</td>\n",
       "      <td>56</td>\n",
       "      <td>84</td>\n",
       "      <td>91</td>\n",
       "      <td>67</td>\n",
       "      <td>88</td>\n",
       "      <td>59</td>\n",
       "      <td>57</td>\n",
       "      <td>22</td>\n",
       "    </tr>\n",
       "    <tr>\n",
       "      <th>2</th>\n",
       "      <td>P. Pogba</td>\n",
       "      <td>Paul Pogba</td>\n",
       "      <td>3/15/1993</td>\n",
       "      <td>25</td>\n",
       "      <td>190.50</td>\n",
       "      <td>83.9</td>\n",
       "      <td>CM,CAM</td>\n",
       "      <td>France</td>\n",
       "      <td>88</td>\n",
       "      <td>91</td>\n",
       "      <td>...</td>\n",
       "      <td>82</td>\n",
       "      <td>78</td>\n",
       "      <td>64</td>\n",
       "      <td>82</td>\n",
       "      <td>88</td>\n",
       "      <td>82</td>\n",
       "      <td>87</td>\n",
       "      <td>63</td>\n",
       "      <td>67</td>\n",
       "      <td>67</td>\n",
       "    </tr>\n",
       "    <tr>\n",
       "      <th>3</th>\n",
       "      <td>L. Insigne</td>\n",
       "      <td>Lorenzo Insigne</td>\n",
       "      <td>6/4/1991</td>\n",
       "      <td>27</td>\n",
       "      <td>162.56</td>\n",
       "      <td>59.0</td>\n",
       "      <td>LW,ST</td>\n",
       "      <td>Italy</td>\n",
       "      <td>88</td>\n",
       "      <td>88</td>\n",
       "      <td>...</td>\n",
       "      <td>84</td>\n",
       "      <td>34</td>\n",
       "      <td>26</td>\n",
       "      <td>83</td>\n",
       "      <td>87</td>\n",
       "      <td>61</td>\n",
       "      <td>83</td>\n",
       "      <td>51</td>\n",
       "      <td>24</td>\n",
       "      <td>22</td>\n",
       "    </tr>\n",
       "    <tr>\n",
       "      <th>4</th>\n",
       "      <td>K. Koulibaly</td>\n",
       "      <td>Kalidou Koulibaly</td>\n",
       "      <td>6/20/1991</td>\n",
       "      <td>27</td>\n",
       "      <td>187.96</td>\n",
       "      <td>88.9</td>\n",
       "      <td>CB</td>\n",
       "      <td>Senegal</td>\n",
       "      <td>88</td>\n",
       "      <td>91</td>\n",
       "      <td>...</td>\n",
       "      <td>15</td>\n",
       "      <td>87</td>\n",
       "      <td>88</td>\n",
       "      <td>24</td>\n",
       "      <td>49</td>\n",
       "      <td>33</td>\n",
       "      <td>80</td>\n",
       "      <td>91</td>\n",
       "      <td>88</td>\n",
       "      <td>87</td>\n",
       "    </tr>\n",
       "  </tbody>\n",
       "</table>\n",
       "<p>5 rows × 51 columns</p>\n",
       "</div>"
      ],
      "text/plain": [
       "           name                       full_name birth_date  age  height_cm  \\\n",
       "0      L. Messi  Lionel Andrés Messi Cuccittini  6/24/1987   31     170.18   \n",
       "1    C. Eriksen    Christian  Dannemann Eriksen  2/14/1992   27     154.94   \n",
       "2      P. Pogba                      Paul Pogba  3/15/1993   25     190.50   \n",
       "3    L. Insigne                 Lorenzo Insigne   6/4/1991   27     162.56   \n",
       "4  K. Koulibaly               Kalidou Koulibaly  6/20/1991   27     187.96   \n",
       "\n",
       "   weight_kgs  positions nationality  overall_rating  potential  ...  \\\n",
       "0        72.1   CF,RW,ST   Argentina              94         94  ...   \n",
       "1        76.2  CAM,RM,CM     Denmark              88         89  ...   \n",
       "2        83.9     CM,CAM      France              88         91  ...   \n",
       "3        59.0      LW,ST       Italy              88         88  ...   \n",
       "4        88.9         CB     Senegal              88         91  ...   \n",
       "\n",
       "   long_shots  aggression interceptions  positioning  vision  penalties  \\\n",
       "0          94          48            22           94      94         75   \n",
       "1          89          46            56           84      91         67   \n",
       "2          82          78            64           82      88         82   \n",
       "3          84          34            26           83      87         61   \n",
       "4          15          87            88           24      49         33   \n",
       "\n",
       "  composure  marking standing_tackle  sliding_tackle  \n",
       "0        96       33              28              26  \n",
       "1        88       59              57              22  \n",
       "2        87       63              67              67  \n",
       "3        83       51              24              22  \n",
       "4        80       91              88              87  \n",
       "\n",
       "[5 rows x 51 columns]"
      ]
     },
     "execution_count": 3,
     "metadata": {},
     "output_type": "execute_result"
    }
   ],
   "source": [
    "data = pd.read_csv('../../datasets/raw/fifa_players.csv')\n",
    "data.head()"
   ]
  },
  {
   "cell_type": "code",
   "execution_count": 5,
   "metadata": {},
   "outputs": [
    {
     "data": {
      "text/plain": [
       "((12567, 50), (5387, 50))"
      ]
     },
     "execution_count": 5,
     "metadata": {},
     "output_type": "execute_result"
    }
   ],
   "source": [
    "X_train, X_test, y_train, y_test = train_test_split(\n",
    "    data.drop('age', axis=1), data['age'], test_size=0.3, random_state=0)\n",
    "\n",
    "X_train.shape, X_test.shape"
   ]
  },
  {
   "cell_type": "markdown",
   "metadata": {},
   "source": [
    "# Se descretizan datos de edad, valor en euros y preferencia de pie para patear"
   ]
  },
  {
   "cell_type": "code",
   "execution_count": 12,
   "metadata": {},
   "outputs": [
    {
     "data": {
      "image/png": "[encoded data removed]",
      "text/plain": [
       "<Figure size 1200x800 with 4 Axes>"
      ]
     },
     "metadata": {},
     "output_type": "display_data"
    }
   ],
   "source": [
    "feature_to_discretize = ['overall_rating','value_euro', 'preferred_foot', 'potential']\n",
    "\n",
    "# Verifica que las columnas existen en X_train\n",
    "for feature in feature_to_discretize:\n",
    "    if feature not in X_train.columns:\n",
    "        raise ValueError(f\"Feature '{feature}' no encontrada en X_train\")\n",
    "\n",
    "# Crear histogramas para cada característica especificada\n",
    "X_train[feature_to_discretize].hist(bins=30, figsize=(12, 8), layout=(1, len(feature_to_discretize)))\n",
    "plt.tight_layout()  # Ajusta el diseño para que no se solapen las etiquetas\n",
    "plt.show()"
   ]
  },
  {
   "cell_type": "code",
   "execution_count": 11,
   "metadata": {},
   "outputs": [
    {
     "name": "stdout",
     "output_type": "stream",
     "text": [
      "Index(['name', 'full_name', 'birth_date', 'height_cm', 'weight_kgs',\n",
      "       'positions', 'nationality', 'overall_rating', 'potential', 'value_euro',\n",
      "       'wage_euro', 'preferred_foot', 'international_reputation(1-5)',\n",
      "       'weak_foot(1-5)', 'skill_moves(1-5)', 'body_type',\n",
      "       'release_clause_euro', 'national_team', 'national_rating',\n",
      "       'national_team_position', 'national_jersey_number', 'crossing',\n",
      "       'finishing', 'heading_accuracy', 'short_passing', 'volleys',\n",
      "       'dribbling', 'curve', 'freekick_accuracy', 'long_passing',\n",
      "       'ball_control', 'acceleration', 'sprint_speed', 'agility', 'reactions',\n",
      "       'balance', 'shot_power', 'jumping', 'stamina', 'strength', 'long_shots',\n",
      "       'aggression', 'interceptions', 'positioning', 'vision', 'penalties',\n",
      "       'composure', 'marking', 'standing_tackle', 'sliding_tackle'],\n",
      "      dtype='object')\n"
     ]
    }
   ],
   "source": [
    "print(X_train.columns)\n"
   ]
  },
  {
   "cell_type": "code",
   "execution_count": 14,
   "metadata": {},
   "outputs": [
    {
     "name": "stdout",
     "output_type": "stream",
     "text": [
      "MSE: 1.248619414048991\n",
      "R^2: 0.9438719319386273\n",
      "       Actual Age  Predicted Age\n",
      "17074          25      25.588190\n",
      "3184           36      35.481179\n",
      "5339           18      20.640706\n",
      "6665           18      19.362329\n",
      "11053          25      23.848061\n"
     ]
    }
   ],
   "source": [
    "import pandas as pd\n",
    "from sklearn.model_selection import train_test_split\n",
    "from sklearn.preprocessing import OneHotEncoder\n",
    "from sklearn.compose import ColumnTransformer\n",
    "from sklearn.pipeline import Pipeline\n",
    "from sklearn.ensemble import RandomForestRegressor\n",
    "from sklearn.metrics import mean_squared_error, r2_score\n",
    "\n",
    "\n",
    "\n",
    "# Variables a usar\n",
    "feature_to_discretize = ['overall_rating', 'value_euro', 'preferred_foot', 'potential']\n",
    "\n",
    "# Verifica que las columnas existen en el DataFrame\n",
    "for feature in feature_to_discretize:\n",
    "    if feature not in data.columns:\n",
    "        raise ValueError(f\"Feature '{feature}' no encontrada en el DataFrame\")\n",
    "\n",
    "# Selecciona las características y la variable objetivo\n",
    "X = data[feature_to_discretize]\n",
    "y = data['age']  # Variable objetivo\n",
    "\n",
    "# Codificación One-Hot para 'preferred_foot'\n",
    "preprocessor = ColumnTransformer(\n",
    "    transformers=[\n",
    "        ('cat', OneHotEncoder(), ['preferred_foot'])\n",
    "    ],\n",
    "    remainder='passthrough'  # Deja las otras columnas sin cambios\n",
    ")\n",
    "\n",
    "# Divide los datos en conjunto de entrenamiento y prueba\n",
    "X_train, X_test, y_train, y_test = train_test_split(\n",
    "    X, y, test_size=0.3, random_state=0)\n",
    "\n",
    "# Pipeline para el modelo\n",
    "model = Pipeline(steps=[\n",
    "    ('preprocessor', preprocessor),\n",
    "    ('regressor', RandomForestRegressor(n_estimators=100, random_state=0))\n",
    "])\n",
    "\n",
    "# Entrenar el modelo\n",
    "model.fit(X_train, y_train)\n",
    "\n",
    "# Hacer predicciones\n",
    "y_pred = model.predict(X_test)\n",
    "\n",
    "# Evaluar el modelo\n",
    "mse = mean_squared_error(y_test, y_pred)\n",
    "r2 = r2_score(y_test, y_pred)\n",
    "\n",
    "print(f'MSE: {mse}')\n",
    "print(f'R^2: {r2}')\n",
    "\n",
    "# Mostrar las primeras filas de X_test junto con las predicciones\n",
    "X_test = X_test.reset_index(drop=True)\n",
    "predictions = pd.DataFrame({'Actual Age': y_test, 'Predicted Age': y_pred})\n",
    "print(predictions.head())"
   ]
  },
  {
   "cell_type": "markdown",
   "metadata": {},
   "source": [
    "# Hicimos una discretización del overall rating que es un score que se da por el desempeño del jugador, el potencial y el valor en el mercado. Eso nos permite ver en que edad los jugadores tienen el mejor overall rating, y tal como en el futbol, muchos logran su mejor momento futbolistico entre los 20 y los 30 años."
   ]
  },
  {
   "cell_type": "code",
   "execution_count": 15,
   "metadata": {},
   "outputs": [
    {
     "name": "stdout",
     "output_type": "stream",
     "text": [
      "         age  overall_rating\n",
      "name                        \n",
      "Player1   25              85\n",
      "Player2   30              90\n",
      "Player3   22              78\n"
     ]
    }
   ],
   "source": [
    "data = {\n",
    "    'name': ['Player1', 'Player2', 'Player3'],\n",
    "    'age': [25, 30, 22],\n",
    "    'overall_rating': [85, 90, 78]\n",
    "}\n",
    "\n",
    "df = pd.DataFrame(data)\n",
    "\n",
    "# Reemplazar el índice por la columna 'name'\n",
    "df.set_index('name', inplace=True)\n",
    "\n",
    "print(df)"
   ]
  }
 ],
 "metadata": {
  "kernelspec": {
   "display_name": "venv1",
   "language": "python",
   "name": "python3"
  },
  "language_info": {
   "codemirror_mode": {
    "name": "ipython",
    "version": 3
   },
   "file_extension": ".py",
   "mimetype": "text/x-python",
   "name": "python",
   "nbconvert_exporter": "python",
   "pygments_lexer": "ipython3",
   "version": "3.10.12"
  }
 },
 "nbformat": 4,
 "nbformat_minor": 2
}
